{
 "cells": [
  {
   "cell_type": "markdown",
   "id": "a8862e1f",
   "metadata": {},
   "source": [
    "AlphaMissense Prediction with Laboratory Data Comparison"
   ]
  },
  {
   "cell_type": "markdown",
   "id": "af7568c4",
   "metadata": {},
   "source": []
  }
 ],
 "metadata": {
  "language_info": {
   "name": "python"
  }
 },
 "nbformat": 4,
 "nbformat_minor": 5
}
